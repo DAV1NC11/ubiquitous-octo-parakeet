{
 "cells": [
  {
   "cell_type": "code",
   "execution_count": 10,
   "id": "fa50a174-944e-4c58-8897-7ade141d52c5",
   "metadata": {},
   "outputs": [
    {
     "name": "stdout",
     "output_type": "stream",
     "text": [
      "Collecting FPL\n",
      "  Using cached fpl-0.6.34-py2.py3-none-any.whl (38 kB)\n",
      "Collecting PTable\n",
      "  Using cached PTable-0.9.2.tar.gz (31 kB)\n",
      "Requirement already satisfied: appdirs in c:\\programdata\\anaconda3\\lib\\site-packages (from FPL) (1.4.4)\n",
      "Collecting aiohttp\n",
      "  Downloading aiohttp-3.8.1-cp39-cp39-win_amd64.whl (554 kB)\n",
      "Requirement already satisfied: colorama in c:\\programdata\\anaconda3\\lib\\site-packages (from FPL) (0.4.4)\n",
      "Collecting pytest-cov\n",
      "  Using cached pytest_cov-3.0.0-py3-none-any.whl (20 kB)\n",
      "Collecting codecov\n",
      "  Using cached codecov-2.1.12-py2.py3-none-any.whl (16 kB)\n",
      "Requirement already satisfied: certifi in c:\\programdata\\anaconda3\\lib\\site-packages (from FPL) (2021.10.8)\n",
      "Requirement already satisfied: Click in c:\\programdata\\anaconda3\\lib\\site-packages (from FPL) (8.0.3)\n",
      "Collecting pytest-aiohttp\n",
      "  Using cached pytest_aiohttp-1.0.4-py3-none-any.whl (8.6 kB)\n",
      "Requirement already satisfied: pytest in c:\\programdata\\anaconda3\\lib\\site-packages (from FPL) (6.2.4)\n",
      "Collecting pytest-mock\n",
      "  Using cached pytest_mock-3.8.2-py3-none-any.whl (9.1 kB)\n",
      "Collecting aiosignal>=1.1.2\n",
      "  Downloading aiosignal-1.2.0-py3-none-any.whl (8.2 kB)\n",
      "Collecting async-timeout<5.0,>=4.0.0a3\n",
      "  Downloading async_timeout-4.0.2-py3-none-any.whl (5.8 kB)\n",
      "Collecting frozenlist>=1.1.1\n",
      "  Downloading frozenlist-1.3.0-cp39-cp39-win_amd64.whl (33 kB)\n",
      "Collecting multidict<7.0,>=4.5\n",
      "  Downloading multidict-6.0.2-cp39-cp39-win_amd64.whl (28 kB)\n",
      "Collecting yarl<2.0,>=1.0\n",
      "  Downloading yarl-1.7.2-cp39-cp39-win_amd64.whl (122 kB)\n",
      "Requirement already satisfied: attrs>=17.3.0 in c:\\programdata\\anaconda3\\lib\\site-packages (from aiohttp->FPL) (21.2.0)\n",
      "Requirement already satisfied: charset-normalizer<3.0,>=2.0 in c:\\programdata\\anaconda3\\lib\\site-packages (from aiohttp->FPL) (2.0.4)\n",
      "Requirement already satisfied: idna>=2.0 in c:\\programdata\\anaconda3\\lib\\site-packages (from yarl<2.0,>=1.0->aiohttp->FPL) (3.2)\n",
      "Collecting coverage\n",
      "  Downloading coverage-6.4.2-cp39-cp39-win_amd64.whl (187 kB)\n",
      "Requirement already satisfied: requests>=2.7.9 in c:\\programdata\\anaconda3\\lib\\site-packages (from codecov->FPL) (2.26.0)\n",
      "Requirement already satisfied: urllib3<1.27,>=1.21.1 in c:\\programdata\\anaconda3\\lib\\site-packages (from requests>=2.7.9->codecov->FPL) (1.26.7)\n",
      "Requirement already satisfied: iniconfig in c:\\programdata\\anaconda3\\lib\\site-packages (from pytest->FPL) (1.1.1)\n",
      "Requirement already satisfied: packaging in c:\\programdata\\anaconda3\\lib\\site-packages (from pytest->FPL) (21.0)\n",
      "Requirement already satisfied: pluggy<1.0.0a1,>=0.12 in c:\\programdata\\anaconda3\\lib\\site-packages (from pytest->FPL) (0.13.1)\n",
      "Requirement already satisfied: py>=1.8.2 in c:\\programdata\\anaconda3\\lib\\site-packages (from pytest->FPL) (1.10.0)\n",
      "Requirement already satisfied: toml in c:\\programdata\\anaconda3\\lib\\site-packages (from pytest->FPL) (0.10.2)\n",
      "Requirement already satisfied: atomicwrites>=1.0 in c:\\programdata\\anaconda3\\lib\\site-packages (from pytest->FPL) (1.4.0)\n",
      "Requirement already satisfied: pyparsing>=2.0.2 in c:\\programdata\\anaconda3\\lib\\site-packages (from packaging->pytest->FPL) (3.0.4)\n",
      "Collecting pytest-asyncio>=0.17.2\n",
      "  Downloading pytest_asyncio-0.19.0-py3-none-any.whl (14 kB)\n",
      "Collecting tomli\n",
      "  Downloading tomli-2.0.1-py3-none-any.whl (12 kB)\n",
      "Building wheels for collected packages: PTable\n",
      "  Building wheel for PTable (setup.py): started\n",
      "  Building wheel for PTable (setup.py): finished with status 'done'\n",
      "  Created wheel for PTable: filename=PTable-0.9.2-py3-none-any.whl size=22924 sha256=bde0342805f05c2341e9e081acc3212efb8502749f5f9ef448c8efc76ebe6bcc\n",
      "  Stored in directory: c:\\users\\chaga\\appdata\\local\\pip\\cache\\wheels\\b8\\d5\\8b\\e0c9765594e0dc8093aae5f67eacc08b9b533da598c710b54a\n",
      "Successfully built PTable\n",
      "Installing collected packages: multidict, frozenlist, yarl, tomli, coverage, async-timeout, aiosignal, pytest-asyncio, aiohttp, pytest-mock, pytest-cov, pytest-aiohttp, PTable, codecov, FPL\n",
      "Successfully installed FPL-0.6.34 PTable-0.9.2 aiohttp-3.8.1 aiosignal-1.2.0 async-timeout-4.0.2 codecov-2.1.12 coverage-6.4.2 frozenlist-1.3.0 multidict-6.0.2 pytest-aiohttp-1.0.4 pytest-asyncio-0.19.0 pytest-cov-3.0.0 pytest-mock-3.8.2 tomli-2.0.1 yarl-1.7.2\n"
     ]
    }
   ],
   "source": [
    "import sys\n",
    "!{sys.executable} -m pip install FPL"
   ]
  },
  {
   "cell_type": "code",
   "execution_count": 11,
   "id": "06c9550e-d21e-446f-b9fe-8012d09d52b3",
   "metadata": {},
   "outputs": [],
   "source": [
    "import operator\n",
    "import seaborn as sns\n",
    "import matplotlib.pyplot as plt\n",
    "from fpl import FPL\n",
    "import asyncio\n",
    "import aiohttp"
   ]
  },
  {
   "cell_type": "code",
   "execution_count": 12,
   "id": "721e4301-8ea9-4924-9287-c240faf3de9b",
   "metadata": {},
   "outputs": [],
   "source": [
    "sns.set()"
   ]
  },
  {
   "cell_type": "code",
   "execution_count": 13,
   "id": "c8561c4c-38da-4d36-a2f0-6e7bdccad685",
   "metadata": {},
   "outputs": [],
   "source": [
    "def positions_calc(players, first_attr, second_attr=None):\n",
    "    positions = ['GK', 'DEF', 'MID', 'FWD']\n",
    "    first_dict = dict({(position, 0) for position in positions})\n",
    "    second_dict = dict({(position, 0) for position in positions})\n",
    "    for player in players:\n",
    "        position = positions[player.element_type-1]\n",
    "        if first_attr == 'now_cost':\n",
    "            first_dict[position] += getattr(player, first_attr) / 10\n",
    "        else:\n",
    "            first_dict[position] += getattr(player, first_attr)\n",
    "        if second_attr == 'now_cost':\n",
    "            second_dict[position] += getattr(player, second_attr) / 10\n",
    "        else:\n",
    "            second_dict[position] += 1\n",
    "    avg_dict = dict({(position, first_dict[position]/second_dict[position]) for position in positions})\n",
    "    ordered_avg_dict = dict(sorted(avg_dict.items(), key=operator.itemgetter(1), reverse=True))\n",
    "    return ordered_avg_dict"
   ]
  },
  {
   "cell_type": "code",
   "execution_count": 14,
   "id": "e795fc49-312c-4cf3-bc9d-0c9a07d84f35",
   "metadata": {},
   "outputs": [],
   "source": [
    "def draw_bar(the_dictionary, x_label, y_label):\n",
    "    keys = the_dictionary.keys()\n",
    "    values = the_dictionary.values()\n",
    "    plt.xlabel(x_label)\n",
    "    plt.ylabel(y_label)\n",
    "    plt.tick_params(axis='x', labelsize=8)\n",
    "    for index, data in enumerate(values):\n",
    "        plt.text(x=index-0.1, y=data+0.1, s=\"%.1f\" % round(data, 2), fontdict=dict(fontsize=10))\n",
    "    plt.bar(keys, values, color=['#38003b'])\n",
    "    plt.show()"
   ]
  },
  {
   "cell_type": "code",
   "execution_count": 15,
   "id": "568e74b9-2e73-4e49-9206-920c9581d22f",
   "metadata": {},
   "outputs": [],
   "source": [
    "def get_top_dict(players, n):\n",
    "    top_performance = sorted(players, key=lambda x: x.total_points, reverse=True)\n",
    "    ret_dict = dict()\n",
    "    for player in top_performance[:n]:\n",
    "        ret_dict[player.web_name] = player.total_points\n",
    "    return ret_dict"
   ]
  },
  {
   "cell_type": "code",
   "execution_count": 16,
   "id": "5a71e6eb-31f5-43d8-a2fd-e8609d5b2e1a",
   "metadata": {},
   "outputs": [],
   "source": [
    "def get_costs(players, n):\n",
    "    top_performance = sorted(players, key=lambda x: x.total_points, reverse=True)\n",
    "    ret_dict = dict()\n",
    "    for player in top_performance[:n]:\n",
    "        ret_dict[player.web_name] = player.now_cost / 10\n",
    "    return ret_dict"
   ]
  },
  {
   "cell_type": "code",
   "execution_count": 17,
   "id": "a5766287-dd06-41c6-ba03-0f4b1e8c30c4",
   "metadata": {},
   "outputs": [],
   "source": [
    "async def main():\n",
    "    async with aiohttp.ClientSession() as session:\n",
    "        fpl = FPL(session)\n",
    "        players = await fpl.get_players()\n",
    "\n",
    "        # average points per player in each position\n",
    "        positions_avg_points = positions_calc(players, first_attr='total_points')\n",
    "        draw_bar(positions_avg_points, 'Positions', 'Points / Player')\n",
    "        # from this chart, the best formation is 3-4-3\n",
    "\n",
    "        # average price per player in each position\n",
    "        positions_avg_prices = positions_calc(players, first_attr='now_cost')\n",
    "        draw_bar(positions_avg_prices, 'Positions', '$Millions / Player')\n",
    "        # we will use this to get the bench players budget (1 GK, 2 DEF, 1 MID) = 20 Millions\n",
    "\n",
    "        # average points per price in each position\n",
    "        points_per_million = positions_calc(players, first_attr='total_points', second_attr='now_cost')\n",
    "        draw_bar(points_per_million, 'Positions', 'Points / Million')\n",
    "        # from this we can say that each million bring equal amount of points in each position (10 points per million)\n",
    "        # so Budgets => FWD:(80/11)*3 = 22 million , DEF: (80/11)*3 = 22 million , MID = (80/11)*4 = 30 million , GK = 6 million\n",
    "\n",
    "        # --------------------------------\n",
    "\n",
    "        # get all players in each position\n",
    "        GK_players = [player for player in players if player.element_type == 1]\n",
    "        DEF_players = [player for player in players if player.element_type == 2]\n",
    "        MID_players = [player for player in players if player.element_type == 3]\n",
    "        FWD_players = [player for player in players if player.element_type == 4]\n",
    "\n",
    "        # GK Budget = 6 Millions\n",
    "        # top 5 GK with total_points\n",
    "        # Choose 1 player\n",
    "        top_GK = get_top_dict(GK_players, 5)\n",
    "        GK_costs = get_costs(GK_players, 5)\n",
    "        draw_bar(top_GK, 'GK Players', 'Total Points')\n",
    "        draw_bar(GK_costs, 'GK Players', 'Cost')\n",
    "        # from 2 charts the best GK is Martinez from Aston Villa cost = 5.5m\n",
    "        # put remaining 0.5m in DEF Budget\n",
    "\n",
    "        # DEF Budget = 22 + 0.5 = 22.5 Millions\n",
    "        # top 5 DEF with total_points\n",
    "        # Choose 3 players\n",
    "        top_DEF = get_top_dict(DEF_players, 5)\n",
    "        DEF_costs = get_costs(DEF_players, 5)\n",
    "        draw_bar(top_DEF, 'DEF Players', 'Total Points')\n",
    "        draw_bar(DEF_costs, 'DEF Players', 'Cost')\n",
    "        # from 2 charts the best 3 DEF:\n",
    "        # Arnold from Liverpool cost = 7.5m, Cresswell from West Ham cost = 5.5m, Wan-Bissaka from Man Utd cost = 5.5m\n",
    "        # Robertson is injured so we don't choose him\n",
    "        # put remaining 4m in MID Budget\n",
    "\n",
    "        # MID Budget = 30 + 4 = 34 Millions\n",
    "        # top 5 MID with total_points\n",
    "        # Choose 4 players\n",
    "        top_MID = get_top_dict(MID_players, 10)\n",
    "        MID_costs = get_costs(MID_players, 10)\n",
    "        draw_bar(top_MID, 'MID Players', 'Total Points')\n",
    "        draw_bar(MID_costs, 'MID Players', 'Cost')\n",
    "        # from 2 charts the best 4 MID:\n",
    "        # Fernandes from Man Utd cost = 12m, Son from Spurs cost = 10m, Dallas from Leeds cost = 5.5m, Harrison from Leeds cost = 6m\n",
    "        # put remaining 0.5m in FWD Budget\n",
    "\n",
    "        # FWD Budget = 22 + 0.5 = 22.5 Millions\n",
    "        # top 5 FWD with total_points\n",
    "        # Choose 3 players\n",
    "        top_FWD = get_top_dict(FWD_players, 10)\n",
    "        FWD_costs = get_costs(FWD_players, 10)\n",
    "        draw_bar(top_FWD, 'FWD Players', 'Total Points')\n",
    "        draw_bar(FWD_costs, 'FWD Players', 'Cost')\n",
    "        # from 2 charts the best 3 FWD:\n",
    "        # Bamford from Leeds cost = 8m, Wood from Burnley cost = 7m, Adams from Southampton cost = 7m\n",
    "        # Watkins is injured so we don't choose him\n",
    "        # put remaining 0.5m in Bench Budget\n",
    "\n",
    "        # Bench Budget = 20 + 0.5 = 20.5 Millions\n",
    "        # 3 players with cost 5m and 1 player with 5.5m\n",
    "        GK_costs = get_costs(GK_players, 10)\n",
    "        draw_bar(GK_costs, 'GK Players', 'Cost')\n",
    "        DEF_costs = get_costs(DEF_players, 10)\n",
    "        draw_bar(DEF_costs, 'DEF Players', 'Cost')\n",
    "        MID_costs = get_costs(MID_players, 40)\n",
    "        draw_bar(MID_costs, 'MID Players', 'Cost')\n",
    "        # Fabianski from West Ham cost = 5m, Dunk from Brighton cost = 5m\n",
    "        # Targett from Aston Villa cost = 5m, Westwood from Burnley cost = 5.5m"
   ]
  },
  {
   "cell_type": "code",
   "execution_count": 19,
   "id": "c657f684-dcb6-48b0-a7c4-6de9eff8188d",
   "metadata": {},
   "outputs": [
    {
     "ename": "RuntimeError",
     "evalue": "asyncio.run() cannot be called from a running event loop",
     "output_type": "error",
     "traceback": [
      "\u001b[1;31m---------------------------------------------------------------------------\u001b[0m",
      "\u001b[1;31mRuntimeError\u001b[0m                              Traceback (most recent call last)",
      "\u001b[1;32m~\\AppData\\Local\\Temp/ipykernel_2612/149163935.py\u001b[0m in \u001b[0;36m<module>\u001b[1;34m\u001b[0m\n\u001b[1;32m----> 1\u001b[1;33m \u001b[0masyncio\u001b[0m\u001b[1;33m.\u001b[0m\u001b[0mrun\u001b[0m\u001b[1;33m(\u001b[0m\u001b[0mmain\u001b[0m\u001b[1;33m(\u001b[0m\u001b[1;33m)\u001b[0m\u001b[1;33m)\u001b[0m\u001b[1;33m\u001b[0m\u001b[1;33m\u001b[0m\u001b[0m\n\u001b[0m",
      "\u001b[1;32mc:\\ProgramData\\Anaconda3\\lib\\asyncio\\runners.py\u001b[0m in \u001b[0;36mrun\u001b[1;34m(main, debug)\u001b[0m\n\u001b[0;32m     31\u001b[0m     \"\"\"\n\u001b[0;32m     32\u001b[0m     \u001b[1;32mif\u001b[0m \u001b[0mevents\u001b[0m\u001b[1;33m.\u001b[0m\u001b[0m_get_running_loop\u001b[0m\u001b[1;33m(\u001b[0m\u001b[1;33m)\u001b[0m \u001b[1;32mis\u001b[0m \u001b[1;32mnot\u001b[0m \u001b[1;32mNone\u001b[0m\u001b[1;33m:\u001b[0m\u001b[1;33m\u001b[0m\u001b[1;33m\u001b[0m\u001b[0m\n\u001b[1;32m---> 33\u001b[1;33m         raise RuntimeError(\n\u001b[0m\u001b[0;32m     34\u001b[0m             \"asyncio.run() cannot be called from a running event loop\")\n\u001b[0;32m     35\u001b[0m \u001b[1;33m\u001b[0m\u001b[0m\n",
      "\u001b[1;31mRuntimeError\u001b[0m: asyncio.run() cannot be called from a running event loop"
     ]
    }
   ],
   "source": [
    "asyncio.run(main())"
   ]
  },
  {
   "cell_type": "code",
   "execution_count": null,
   "id": "a0f75e25-9cff-4e0c-9177-825f6aeac0d5",
   "metadata": {},
   "outputs": [],
   "source": []
  }
 ],
 "metadata": {
  "kernelspec": {
   "display_name": "Python 3.9.7 ('base')",
   "language": "python",
   "name": "python3"
  },
  "language_info": {
   "codemirror_mode": {
    "name": "ipython",
    "version": 3
   },
   "file_extension": ".py",
   "mimetype": "text/x-python",
   "name": "python",
   "nbconvert_exporter": "python",
   "pygments_lexer": "ipython3",
   "version": "3.9.7"
  },
  "vscode": {
   "interpreter": {
    "hash": "ad2bdc8ecc057115af97d19610ffacc2b4e99fae6737bb82f5d7fb13d2f2c186"
   }
  }
 },
 "nbformat": 4,
 "nbformat_minor": 5
}
