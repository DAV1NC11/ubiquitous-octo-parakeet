{
 "cells": [
  {
   "cell_type": "code",
   "execution_count": 7,
   "metadata": {},
   "outputs": [],
   "source": [
    "import openpyxl as xl\n",
    "wb = xl.load_workbook('transactions.xlsx')\n",
    "sheet = wb['Sheet1']\n",
    "cell = sheet['a1']\n",
    "\n",
    "for row in range(2, sheet.max_row + 1):\n",
    "    cell = sheet.cell(row, 3)\n",
    "    corrected_value = cell.value * 0.9\n",
    "    corrected_value_cell = sheet.cell(row, 4)\n",
    "    corrected_value_cell.value = corrected_value\n",
    "    \n",
    "wb.save('transactions2.xlsx')"
   ]
  },
  {
   "cell_type": "code",
   "execution_count": null,
   "metadata": {},
   "outputs": [],
   "source": []
  }
 ],
 "metadata": {
  "kernelspec": {
   "display_name": "Python 3",
   "language": "python",
   "name": "python3"
  },
  "language_info": {
   "codemirror_mode": {
    "name": "ipython",
    "version": 3
   },
   "file_extension": ".py",
   "mimetype": "text/x-python",
   "name": "python",
   "nbconvert_exporter": "python",
   "pygments_lexer": "ipython3",
   "version": "3.7.4"
  }
 },
 "nbformat": 4,
 "nbformat_minor": 2
}
